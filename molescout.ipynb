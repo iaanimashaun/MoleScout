{
  "nbformat": 4,
  "nbformat_minor": 0,
  "metadata": {
    "accelerator": "GPU",
    "colab": {
      "name": "molescout.ipynb",
      "provenance": [],
      "machine_shape": "hm"
    },
    "instance_type": "ml.m5.4xlarge",
    "kernelspec": {
      "display_name": "Python 3.8.3 64-bit",
      "language": "python",
      "name": "python38364bite05022d49ac04348a6f39d27ab40de1e"
    },
    "language_info": {
      "codemirror_mode": {
        "name": "ipython",
        "version": 3
      },
      "file_extension": ".py",
      "mimetype": "text/x-python",
      "name": "python",
      "nbconvert_exporter": "python",
      "pygments_lexer": "ipython3",
      "version": "3.8.3"
    }
  },
  "cells": [
    {
      "cell_type": "code",
      "metadata": {
        "colab": {
          "base_uri": "https://localhost:8080/"
        },
        "id": "FwKMVSlwud1v",
        "outputId": "719dbf7a-f699-477a-cbd1-0433275d9763"
      },
      "source": [
        "!nvidia-smi"
      ],
      "execution_count": null,
      "outputs": [
        {
          "output_type": "stream",
          "text": [
            "Wed Jun  2 16:45:06 2021       \n",
            "+-----------------------------------------------------------------------------+\n",
            "| NVIDIA-SMI 465.19.01    Driver Version: 460.32.03    CUDA Version: 11.2     |\n",
            "|-------------------------------+----------------------+----------------------+\n",
            "| GPU  Name        Persistence-M| Bus-Id        Disp.A | Volatile Uncorr. ECC |\n",
            "| Fan  Temp  Perf  Pwr:Usage/Cap|         Memory-Usage | GPU-Util  Compute M. |\n",
            "|                               |                      |               MIG M. |\n",
            "|===============================+======================+======================|\n",
            "|   0  Tesla P100-PCIE...  Off  | 00000000:00:04.0 Off |                    0 |\n",
            "| N/A   43C    P0    40W / 250W |      0MiB / 16280MiB |      0%      Default |\n",
            "|                               |                      |                  N/A |\n",
            "+-------------------------------+----------------------+----------------------+\n",
            "                                                                               \n",
            "+-----------------------------------------------------------------------------+\n",
            "| Processes:                                                                  |\n",
            "|  GPU   GI   CI        PID   Type   Process name                  GPU Memory |\n",
            "|        ID   ID                                                   Usage      |\n",
            "|=============================================================================|\n",
            "|  No running processes found                                                 |\n",
            "+-----------------------------------------------------------------------------+\n"
          ],
          "name": "stdout"
        }
      ]
    },
    {
      "cell_type": "code",
      "metadata": {
        "colab": {
          "base_uri": "https://localhost:8080/"
        },
        "id": "iqGNV7-mgppg",
        "outputId": "af6199f2-28da-4093-ba37-d42a13489f09"
      },
      "source": [
        "!nvcc --version"
      ],
      "execution_count": null,
      "outputs": [
        {
          "output_type": "stream",
          "text": [
            "nvcc: NVIDIA (R) Cuda compiler driver\n",
            "Copyright (c) 2005-2020 NVIDIA Corporation\n",
            "Built on Wed_Jul_22_19:09:09_PDT_2020\n",
            "Cuda compilation tools, release 11.0, V11.0.221\n",
            "Build cuda_11.0_bu.TC445_37.28845127_0\n"
          ],
          "name": "stdout"
        }
      ]
    },
    {
      "cell_type": "code",
      "metadata": {
        "colab": {
          "base_uri": "https://localhost:8080/",
          "height": 35
        },
        "id": "yjgqwJSJhEc8",
        "outputId": "fa3baeaf-5893-4d47-9976-d89e2bccf6ed"
      },
      "source": [
        "import torch\n",
        "torch.cuda.get_device_name(0)"
      ],
      "execution_count": null,
      "outputs": [
        {
          "output_type": "execute_result",
          "data": {
            "application/vnd.google.colaboratory.intrinsic+json": {
              "type": "string"
            },
            "text/plain": [
              "'Tesla P100-PCIE-16GB'"
            ]
          },
          "metadata": {
            "tags": []
          },
          "execution_count": 3
        }
      ]
    },
    {
      "cell_type": "code",
      "metadata": {
        "id": "mZSQclpghCNl"
      },
      "source": [
        ""
      ],
      "execution_count": null,
      "outputs": []
    },
    {
      "cell_type": "code",
      "metadata": {
        "id": "eCkbuiVLg_8g"
      },
      "source": [
        ""
      ],
      "execution_count": null,
      "outputs": []
    },
    {
      "cell_type": "code",
      "metadata": {
        "id": "0U9NqA-0u6Ny"
      },
      "source": [
        "# # !pip install gdown \n",
        "# import gdown"
      ],
      "execution_count": null,
      "outputs": []
    },
    {
      "cell_type": "code",
      "metadata": {
        "colab": {
          "base_uri": "https://localhost:8080/"
        },
        "id": "tnIgi43Xugfz",
        "outputId": "d09b5f5a-05cb-4ca2-fd70-d66066398fa8"
      },
      "source": [
        "# # !gdown https://drive.google.com/file/d/1EmW0PG6isXWm23khxBKbXkMRVQ0aCBlF/ view?usp=sharing\n",
        "# !gdown https://drive.google.com/uc?id=1EmW0PG6isXWm23khxBKbXkMRVQ0aCBlF"
      ],
      "execution_count": null,
      "outputs": [
        {
          "output_type": "stream",
          "text": [
            "Downloading...\n",
            "From: https://drive.google.com/uc?id=1EmW0PG6isXWm23khxBKbXkMRVQ0aCBlF\n",
            "To: /content/imbalanced-dataset-sampler-master.zip\n",
            "\r  0% 0.00/297k [00:00<?, ?B/s]\r100% 297k/297k [00:00<00:00, 105MB/s]\n"
          ],
          "name": "stdout"
        }
      ]
    },
    {
      "cell_type": "code",
      "metadata": {
        "id": "waJMBe7Q9lIc"
      },
      "source": [
        "# import zipfile\n",
        "\n",
        "# with zipfile.ZipFile(\"imbalanced-dataset-sampler-master.zip\",\"r\") as zip_ref:\n",
        "#     zip_ref.extractall(\"torchloader\")"
      ],
      "execution_count": null,
      "outputs": []
    },
    {
      "cell_type": "code",
      "metadata": {
        "id": "hiFK-e4gsPHM"
      },
      "source": [
        "# import necessary libraries\n",
        "\n",
        "import numpy as np \n",
        "import pandas as pd \n",
        "import matplotlib.pyplot as plt\n",
        "import seaborn as sns\n",
        "import os\n",
        "import random\n",
        "import time\n",
        "import copy\n",
        "import tqdm\n",
        "from tqdm import tqdm\n",
        "\n",
        "from PIL import Image\n",
        "import numpy\n",
        "\n",
        "import torchvision\n",
        "import torch\n",
        "import torch.nn as nn\n",
        "from torch.autograd import Variable\n",
        "import torch.utils.data\n",
        "import torch.nn.functional as F\n",
        "from torchvision import datasets, transforms, models\n",
        "from torch.utils.data import DataLoader, Dataset, TensorDataset\n",
        "import torch.optim as optim\n",
        "from torch.utils.data.sampler import SubsetRandomSampler, WeightedRandomSampler\n",
        "#from torchsampler import ImbalancedDatasetSampler\n",
        "\n",
        "from sklearn.model_selection import train_test_split\n",
        "from sklearn.metrics import classification_report, confusion_matrix\n",
        "import glob\n",
        "import shutil\n",
        "import os\n",
        "import matplotlib.pyplot as plt\n",
        "\n",
        "import torch\n",
        "import torch.nn as nn\n",
        "import torch.optim as optim\n",
        "import torch.nn.functional as F\n",
        "import torchvision\n",
        "import torchvision.transforms as transforms\n",
        "\n",
        "from torch.utils.data import DataLoader\n",
        "from torch.utils.tensorboard import SummaryWriter\n",
        "from IPython.display import display, clear_output\n",
        "import pandas as pd\n",
        "import time\n",
        "import json\n",
        "\n",
        "from itertools import product\n",
        "from collections import namedtuple\n",
        "from collections import OrderedDict\n",
        "\n",
        "from sklearn.metrics import confusion_matrix, roc_auc_score, roc_curve\n",
        "#from resources.plotcm import plot_confusion_matrix\n",
        "\n",
        "#print(os.listdir(\"../input\"))\n"
      ],
      "execution_count": 2,
      "outputs": []
    },
    {
      "cell_type": "code",
      "metadata": {
        "id": "QN__jMyqsPHg"
      },
      "source": [
        "# https://drive.google.com/file/d/1qvzmxXYktM5t7R1XI7p4G_RQP8G0TH3r/view?usp=sharing"
      ],
      "execution_count": null,
      "outputs": []
    },
    {
      "cell_type": "code",
      "metadata": {
        "id": "KRDGLs9HsPHp"
      },
      "source": [
        "# !gdown https://drive.google.com/uc?id=1qvzmxXYktM5t7R1XI7p4G_RQP8G0TH3r"
      ],
      "execution_count": null,
      "outputs": []
    },
    {
      "cell_type": "code",
      "metadata": {
        "id": "uCyudw-tsPHu"
      },
      "source": [
        "# import zipfile\n",
        "\n",
        "# with zipfile.ZipFile(\"imbalanced-dataset-sampler-master.zip\",\"r\") as zip_ref:\n",
        "#     zip_ref.extractall(\"torchloader\")"
      ],
      "execution_count": null,
      "outputs": []
    },
    {
      "cell_type": "code",
      "metadata": {
        "id": "I5wGksBnsPH2"
      },
      "source": [
        ""
      ],
      "execution_count": null,
      "outputs": []
    },
    {
      "cell_type": "code",
      "metadata": {
        "id": "pMHAYapssPH4"
      },
      "source": [
        ""
      ],
      "execution_count": null,
      "outputs": []
    },
    {
      "cell_type": "code",
      "metadata": {
        "id": "gfucjlBr33yO"
      },
      "source": [
        "train_dir = '/content/drive/MyDrive/Projects/capstone/isic1920/train'\n",
        "valid_dir = '/content/drive/MyDrive/Projects/capstone/isic1920/test'"
      ],
      "execution_count": 12,
      "outputs": []
    },
    {
      "cell_type": "code",
      "metadata": {
        "id": "I1ssqQF599BM"
      },
      "source": [
        "# for i in range(100):\n",
        "#   file = random.choice([x for x in os.listdir(mel_dir)\n",
        "#                if os.path.isfile(os.path.join(mel_dir, x))])\n",
        "#   source = mel_dir + file \n",
        "#   dest = root_dir + \"valid/\" + file \n",
        "#   shutil.move(source, dest)"
      ],
      "execution_count": null,
      "outputs": []
    },
    {
      "cell_type": "code",
      "metadata": {
        "id": "_1pB0cLp8AT0"
      },
      "source": [
        "# for i in tqdm(range(800)):\n",
        "#   file = random.choice([x for x in os.listdir(nmel_dir)\n",
        "#                if os.path.isfile(os.path.join(nmel_dir, x))])\n",
        "#   source = nmel_dir + file \n",
        "#   dest = root_dir + \"valid/not_melanoma/\" + file \n",
        "#   shutil.move(source, dest)"
      ],
      "execution_count": null,
      "outputs": []
    },
    {
      "cell_type": "code",
      "metadata": {
        "id": "dZkLCnQXs_XG"
      },
      "source": [
        ""
      ],
      "execution_count": null,
      "outputs": []
    },
    {
      "cell_type": "code",
      "metadata": {
        "colab": {
          "base_uri": "https://localhost:8080/"
        },
        "id": "1Dx9LUs9i-Ac",
        "outputId": "2e82188d-2577-4558-c8bb-b59c51c728a8"
      },
      "source": [
        "# from google.colab import drive\n",
        "# drive.mount('/content/drive')"
      ],
      "execution_count": 1,
      "outputs": [
        {
          "output_type": "stream",
          "text": [
            "Mounted at /content/drive\n"
          ],
          "name": "stdout"
        }
      ]
    },
    {
      "cell_type": "code",
      "metadata": {
        "id": "htHDd0EUs-3b"
      },
      "source": [
        ""
      ],
      "execution_count": null,
      "outputs": []
    },
    {
      "cell_type": "code",
      "metadata": {
        "id": "meyGFbV6s-WN"
      },
      "source": [
        ""
      ],
      "execution_count": null,
      "outputs": []
    },
    {
      "cell_type": "code",
      "metadata": {
        "id": "vO08GUGkkXih"
      },
      "source": [
        "class AdjustGamma(object):\n",
        "    def __call__(self, img):\n",
        "        return transforms.functional.adjust_gamma(img, 0.8, gain=1)\n",
        "    \n",
        "class AdjustContrast(object):\n",
        "    def __call__(self, img):\n",
        "        return transforms.functional.adjust_contrast(img, 2)\n",
        "    \n",
        "class AdjustBrightness(object):\n",
        "    def __call__(self, img):\n",
        "        return transforms.functional.adjust_brightness(img, 2)"
      ],
      "execution_count": null,
      "outputs": []
    },
    {
      "cell_type": "code",
      "metadata": {
        "id": "scD33Zt5Mj3I"
      },
      "source": [
        "def load_data(train_dir, valid_dir):\n",
        "    \n",
        "    \"\"\"\n",
        "    Function to obtain the dataloaders and the class_to_index mapping.\n",
        "    Inputs:\n",
        "        train and valid directories.\n",
        "    Outputs:\n",
        "        trainloader, validloader, and train_dataset.class_to_index\n",
        "    \"\"\"\n",
        "  \n",
        "    \n",
        "    \n",
        "    # Now we can define the transforms to perform in training, validation and testing\n",
        "    train_transforms = transforms.Compose([transforms.RandomRotation(30),\n",
        "                                           transforms.RandomResizedCrop(224),\n",
        "                                           transforms.RandomHorizontalFlip(),\n",
        "                                           transforms.RandomVerticalFlip(),\n",
        "                                            # AdjustGamma(),\n",
        "                                            # AdjustContrast(),\n",
        "                                           transforms.ToTensor(),\n",
        "                                           transforms.Normalize([0.485, 0.456, 0.406],[0.229, 0.224, 0.225])])\n",
        "    valtest_transforms = transforms.Compose([transforms.Resize(255),\n",
        "                                             transforms.CenterCrop(224),\n",
        "                                             transforms.ToTensor(),\n",
        "                                             transforms.Normalize([0.485, 0.456, 0.406],[0.229, 0.224, 0.225])])\n",
        "    \n",
        "    # Obtain the datasets with ImageFolder\n",
        "    try:\n",
        "        train_dataset = datasets.ImageFolder(train_dir, transform = train_transforms)\n",
        "        valid_dataset = datasets.ImageFolder(valid_dir, transform=valtest_transforms)\n",
        "        #test_dataset = datasets.ImageFolder(test_dir, transform=valtest_transforms)\n",
        "    except FileNotFoundError:\n",
        "        print('The datadir introduced does not fit the expected model (datadir/train, datadir/valid)')\n",
        "        print('Please introduce another directory')\n",
        "      \n",
        "\n",
        "    \n",
        "    # labels = np.array(train_dataset.samples)[:,1]\n",
        "    # labels = labels.astype(int)\n",
        "\n",
        "    # # class_weights = [num_samples/class_counts[i] for i in range(len(class_counts))]\n",
        "    # # weights = [class_weights[labels[i]] for i in range(int(num_samples))]\n",
        "\n",
        "    # majority_weight = 1/25706\n",
        "    # minority_weight = 1/468\n",
        "    # samples_weights = np.array([majority_weight, minority_weight])\n",
        "    # weights = samples_weights[labels]\n",
        "    # #sampler = WeightedRandomSampler(torch.DoubleTensor(weights), int(num_samples))\n",
        "\n",
        "    # sampler = WeightedRandomSampler(weights=weights, num_samples=len(weights), replacement=True)\n",
        "            \n",
        "    # Obtain the dataloaders\n",
        "    trainloader = torch.utils.data.DataLoader(train_dataset, shuffle=True, batch_size=32)#, sampler=ImbalancedDatasetSampler(train_dataset), batch_size=32)\n",
        "    validloader = torch.utils.data.DataLoader(valid_dataset, shuffle=True, batch_size=32)\n",
        "    \n",
        "    \n",
        "    return trainloader, validloader, train_dataset.class_to_idx\n",
        "    "
      ],
      "execution_count": 13,
      "outputs": []
    },
    {
      "cell_type": "code",
      "metadata": {
        "id": "3oxvWuyGkfqt"
      },
      "source": [
        "\n",
        "trainloader, validloader,  class_idx = load_data(train_dir, valid_dir)\n"
      ],
      "execution_count": 14,
      "outputs": []
    },
    {
      "cell_type": "code",
      "metadata": {
        "colab": {
          "base_uri": "https://localhost:8080/"
        },
        "id": "qDD0i8couyEh",
        "outputId": "e8b49644-2dbd-4467-b4e5-6fc6117ea291"
      },
      "source": [
        "len(trainloader), len(validloader)"
      ],
      "execution_count": 15,
      "outputs": [
        {
          "output_type": "execute_result",
          "data": {
            "text/plain": [
              "(291, 68)"
            ]
          },
          "metadata": {
            "tags": []
          },
          "execution_count": 15
        }
      ]
    },
    {
      "cell_type": "code",
      "metadata": {
        "colab": {
          "base_uri": "https://localhost:8080/"
        },
        "id": "3ZuhyKESvL43",
        "outputId": "c40bc021-4dff-439d-ed21-dea7eb614aff"
      },
      "source": [
        "# from collections import Counter\n",
        "# dict(Counter(trainloader.dataset.targets))"
      ],
      "execution_count": null,
      "outputs": [
        {
          "output_type": "execute_result",
          "data": {
            "text/plain": [
              "{0: 25706, 1: 468}"
            ]
          },
          "metadata": {
            "tags": []
          },
          "execution_count": 10
        }
      ]
    },
    {
      "cell_type": "code",
      "metadata": {
        "id": "QR4foqEnfVM8"
      },
      "source": [
        "class MyClassifier(nn.Module):\n",
        "    \"\"\"\n",
        "    Fully conneceted classifier we will train to predict if a skin mole or lesion is melanoma from images\n",
        "    Inputs:\n",
        "        input_size: Depending on the model\n",
        "        output_size: Depending on the problem (2 classes in this case)\n",
        "        hidden_layers: The user can choose the number of ReLU hidden layers.\n",
        "        dropout_p: Probability of dropout.\n",
        "    \"\"\"\n",
        "    def __init__(self, input_size, output_size, hidden_layers,dropout_p):\n",
        "        super().__init__()\n",
        "        # The first layer \n",
        "        self.hidden_layers = nn.ModuleList([nn.Linear(input_size, hidden_layers[0])])\n",
        "        # We pair the rest of the layers and define them\n",
        "        paired_layers = zip(hidden_layers[:-1], hidden_layers[1:])\n",
        "        for p1,p2 in paired_layers:\n",
        "            self.hidden_layers.append(nn.Linear(p1,p2))\n",
        "        # Define the output layer\n",
        "        self.output_layer = nn.Linear(hidden_layers[-1],output_size)\n",
        "\n",
        "        # Define that we will be using dropout - We will also check that it is between 0 and 1\n",
        "        try:\n",
        "            self.dropout = nn.Dropout(p=dropout_p)\n",
        "        except ValueError:\n",
        "            print(\"The dropout probability has to be between 0 and 1 amd got \",dropout_p)\n",
        "            print(\"Please introduce a valid p\")\n",
        "            sys.exit(\"Program terminating.\")\n",
        "\n",
        "\n",
        "    # Then we define the forward method\n",
        "    def forward(self,x):\n",
        "        for layer in self.hidden_layers:\n",
        "            x = layer(x)\n",
        "            x = F.relu(x)\n",
        "            x = self.dropout(x)\n",
        "        x = self.output_layer(x)\n",
        "        x = F.log_softmax(x,dim=1)\n",
        "        return x\n",
        "    \n",
        "def build_model():\n",
        "    \n",
        "    \"\"\"\n",
        "    Inputs:\n",
        "        possible_models: A dictionary with the models that this application uses.\n",
        "        \n",
        "    Outputs:\n",
        "        model: Pretrained model with the classifier defined by the user\n",
        "        device: It selects whether the model is trained in CPU/GPU\n",
        "    \n",
        "    \"\"\"\n",
        "   # load vgg16 model\n",
        "    model = models.vgg16(pretrained = True)\n",
        "    \n",
        "    #model = models.alexnet(pretrained = True)    \n",
        "\n",
        "    # From here we can indicate not to compute the gradient\n",
        "    for param in model.parameters():\n",
        "        param.requieres_grad = False\n",
        "    # Now we attach our classifier\n",
        "\n",
        "    input_size = 25088\n",
        "    output_size = 2\n",
        "    classifier = MyClassifier(input_size, output_size, [1024,512], 0.2)\n",
        "    model.classifier = classifier\n",
        "    \n",
        "    device = \"cuda:0\" if torch.cuda.is_available() else \"cpu\"\n",
        "    #model = model.to(device)\n",
        "    \n",
        "    return model, device\n",
        "\n"
      ],
      "execution_count": 16,
      "outputs": []
    },
    {
      "cell_type": "code",
      "metadata": {
        "id": "7U8FHtI_oI_Z"
      },
      "source": [
        "criterion = nn.NLLLoss()\n",
        "#criterion = nn.BCELoss()\n",
        "\n",
        "model, device = build_model()\n",
        "model = model.to(device)"
      ],
      "execution_count": 38,
      "outputs": []
    },
    {
      "cell_type": "code",
      "metadata": {
        "colab": {
          "base_uri": "https://localhost:8080/",
          "height": 35
        },
        "id": "j-E2iUiNoH0X",
        "outputId": "007aa754-d3ca-405c-859e-8ffae7809b61"
      },
      "source": [
        "device"
      ],
      "execution_count": null,
      "outputs": [
        {
          "output_type": "execute_result",
          "data": {
            "application/vnd.google.colaboratory.intrinsic+json": {
              "type": "string"
            },
            "text/plain": [
              "'cuda:0'"
            ]
          },
          "metadata": {
            "tags": []
          },
          "execution_count": 36
        }
      ]
    },
    {
      "cell_type": "code",
      "metadata": {
        "id": "2G3nOohKis82"
      },
      "source": [
        ""
      ],
      "execution_count": null,
      "outputs": []
    },
    {
      "cell_type": "code",
      "metadata": {
        "id": "NN4gHYyLMiZl"
      },
      "source": [
        ""
      ],
      "execution_count": null,
      "outputs": []
    },
    {
      "cell_type": "code",
      "metadata": {
        "id": "Zp0MANDaD4Cj"
      },
      "source": [
        "loss_list = []\n",
        "acc_list = []\n",
        "val_loss_list = []\n",
        "val_acc_list = []\n",
        "def train(model, device, trainloader, validloader, criterion):\n",
        "    \n",
        "    \"\"\"\n",
        "    Training loop for the model\n",
        "    \n",
        "    Inputs:\n",
        "        model: Pretrained model\n",
        "        device: To select wether we will train on CPU/GPU\n",
        "        \n",
        "        trainloader: Data loader for the training subset.\n",
        "        validloader: Data loader for the validation subset\n",
        "        criterion: To specify how the loss is computed\n",
        "    Output:\n",
        "        model: Trained model\n",
        "    \"\"\"\n",
        "    \n",
        "    optimizer = optim.Adam(model.classifier.parameters(), lr = 0.001)\n",
        "    epochs = 30 \n",
        "    steps = 0\n",
        "    print_every = 100\n",
        "    running_loss = 0 \n",
        "    # Printouts and visualization\n",
        "    start_time = time.time() \n",
        "    batch_size = 32\n",
        "    running_total = 0\n",
        "    running_loss = 0\n",
        "    running_correct = 0\n",
        "    total_correct = 0\n",
        "    total_size = 0\n",
        "    total_loss = 0\n",
        "     \n",
        "    print(\"Start of training - Device: {} - Epochs: {} - Batches: {} - Batch size: {}\"\n",
        "          .format(device, epochs, len(trainloader), batch_size))\n",
        "\n",
        "    # Set model to training mode\n",
        "    model.train()\n",
        "\n",
        "    # Reset gradients\n",
        "    model.zero_grad()\n",
        "    #print()\n",
        "    #print(\"Training started............\")\n",
        "    for epoch in range(epochs):       \n",
        "        for i, (images, labels) in enumerate(trainloader):      \n",
        "            \n",
        "            # Send data to device\n",
        "            images, labels = images.to(device), labels.to(device)        \n",
        "            \n",
        "            # Forward and backward pass\n",
        "            output = model(images)\n",
        "            loss = criterion(output, labels)\n",
        "            optimizer.zero_grad()\n",
        "            loss.backward()\n",
        "            optimizer.step()\n",
        "            \n",
        "            # Printouts and visualization \n",
        "            \n",
        "            # Store running loss, total predictions, correct predictions, loss\n",
        "            running_loss += loss.item()\n",
        "            _, predicted = torch.max(output.data, 1)\n",
        "            running_total += labels.size(0)\n",
        "            running_correct += (predicted == labels).sum().item()         \n",
        "            #loss_list.append(loss.item())\n",
        "            total_correct += running_correct\n",
        "            total_size += running_total\n",
        "            total_loss += running_loss\n",
        "        \n",
        "            # Print out average training loss and accuracy every {print_every} batches\n",
        "            if (i+1) % print_every == 0:         \n",
        "                print(\"Epoch: {}/{} - TRAINING DATA - Batches: {}/{} - Loss: {:.3f} - Accuracy: {:.3f}\".format(\n",
        "                    epoch+1, epochs, i+1, len(trainloader), \n",
        "                    running_loss/print_every, \n",
        "                    running_correct/running_total))\n",
        "                \n",
        "                # Reset running loss and accuracy\n",
        "                running_loss = 0\n",
        "                running_total = 0\n",
        "                running_correct = 0\n",
        "        acc_list.append(total_correct/total_size)\n",
        "        loss_list.append(total_loss/total_size)\n",
        "                \n",
        "    # Evaluate model on validation set\n",
        "\n",
        "        valid_running_loss = 0\n",
        "        valid_running_total = 0\n",
        "        valid_running_correct = 0\n",
        "        val_total_correct = 0\n",
        "        val_total_size = 0\n",
        "        val_total_loss = 0\n",
        "\n",
        "        # Set model to evaluation mode\n",
        "        model.eval()\n",
        "        \n",
        "        # Turn off gradients\n",
        "        with torch.no_grad():\n",
        "            for i, (images, labels) in enumerate(validloader):\n",
        "                \n",
        "                # Send data to device\n",
        "                images, labels = images.to(device), labels.to(device)\n",
        "\n",
        "                # Forward pass\n",
        "                output = model(images)\n",
        "                loss = criterion(output, labels)\n",
        "                \n",
        "                # Store running loss, total predictions, correct predictions\n",
        "                valid_running_loss += loss.item()\n",
        "                _, predicted = torch.max(output.data, 1)\n",
        "                valid_running_total += labels.size(0)\n",
        "                valid_running_correct += (predicted == labels).sum().item()\n",
        "\n",
        "\n",
        "                val_total_correct += valid_running_correct\n",
        "                val_total_size += valid_running_total\n",
        "                val_total_loss += valid_running_loss      \n",
        "          \n",
        "            print(\"Epoch: {}/{} - VALIDATION DATA - Loss: {:.3f} - Accuracy {:.3f}\".format(\n",
        "                epoch+1, epochs, \n",
        "                valid_running_loss/len(validloader),\n",
        "                valid_running_correct/valid_running_total))\n",
        "        \n",
        "\n",
        "            val_acc_list.append(val_total_correct/val_total_size)\n",
        "            val_loss_list.append(val_total_loss/val_total_size)\n",
        "        # Set model back to training mode\n",
        "        model.train()\n",
        "\n",
        "    print(\"Training complete - Total training time: {:.1f} minutes\".format(\n",
        "        (time.time() - start_time)/60))"
      ],
      "execution_count": 41,
      "outputs": []
    },
    {
      "cell_type": "code",
      "metadata": {
        "colab": {
          "base_uri": "https://localhost:8080/"
        },
        "id": "ai-HqbJLMhkM",
        "outputId": "7b36b670-de79-42ed-f61b-4292f1b43c82"
      },
      "source": [
        "train(model, device, trainloader, validloader, criterion)"
      ],
      "execution_count": 42,
      "outputs": [
        {
          "output_type": "stream",
          "text": [
            "Start of training - Device: cuda:0 - Epochs: 30 - Batches: 291 - Batch size: 32\n",
            "Epoch: 1/30 - TRAINING DATA - Batches: 100/291 - Loss: 0.345 - Accuracy: 0.866\n",
            "Epoch: 1/30 - TRAINING DATA - Batches: 200/291 - Loss: 0.336 - Accuracy: 0.865\n",
            "Epoch: 1/30 - VALIDATION DATA - Loss: 0.610 - Accuracy 0.771\n",
            "Epoch: 2/30 - TRAINING DATA - Batches: 100/291 - Loss: 0.554 - Accuracy: 0.891\n",
            "Epoch: 2/30 - TRAINING DATA - Batches: 200/291 - Loss: 0.284 - Accuracy: 0.887\n",
            "Epoch: 2/30 - VALIDATION DATA - Loss: 0.517 - Accuracy 0.755\n",
            "Epoch: 3/30 - TRAINING DATA - Batches: 100/291 - Loss: 0.558 - Accuracy: 0.881\n",
            "Epoch: 3/30 - TRAINING DATA - Batches: 200/291 - Loss: 0.280 - Accuracy: 0.890\n",
            "Epoch: 3/30 - VALIDATION DATA - Loss: 0.559 - Accuracy 0.756\n",
            "Epoch: 4/30 - TRAINING DATA - Batches: 100/291 - Loss: 0.511 - Accuracy: 0.897\n",
            "Epoch: 4/30 - TRAINING DATA - Batches: 200/291 - Loss: 0.285 - Accuracy: 0.894\n",
            "Epoch: 4/30 - VALIDATION DATA - Loss: 0.568 - Accuracy 0.751\n",
            "Epoch: 5/30 - TRAINING DATA - Batches: 100/291 - Loss: 0.531 - Accuracy: 0.894\n",
            "Epoch: 5/30 - TRAINING DATA - Batches: 200/291 - Loss: 0.249 - Accuracy: 0.905\n",
            "Epoch: 5/30 - VALIDATION DATA - Loss: 0.526 - Accuracy 0.745\n",
            "Epoch: 6/30 - TRAINING DATA - Batches: 100/291 - Loss: 0.484 - Accuracy: 0.900\n",
            "Epoch: 6/30 - TRAINING DATA - Batches: 200/291 - Loss: 0.257 - Accuracy: 0.899\n",
            "Epoch: 6/30 - VALIDATION DATA - Loss: 0.531 - Accuracy 0.754\n",
            "Epoch: 7/30 - TRAINING DATA - Batches: 100/291 - Loss: 0.497 - Accuracy: 0.897\n",
            "Epoch: 7/30 - TRAINING DATA - Batches: 200/291 - Loss: 0.249 - Accuracy: 0.903\n",
            "Epoch: 7/30 - VALIDATION DATA - Loss: 0.479 - Accuracy 0.791\n",
            "Epoch: 8/30 - TRAINING DATA - Batches: 100/291 - Loss: 0.469 - Accuracy: 0.905\n",
            "Epoch: 8/30 - TRAINING DATA - Batches: 200/291 - Loss: 0.256 - Accuracy: 0.900\n",
            "Epoch: 8/30 - VALIDATION DATA - Loss: 0.509 - Accuracy 0.760\n",
            "Epoch: 9/30 - TRAINING DATA - Batches: 100/291 - Loss: 0.495 - Accuracy: 0.904\n",
            "Epoch: 9/30 - TRAINING DATA - Batches: 200/291 - Loss: 0.254 - Accuracy: 0.903\n",
            "Epoch: 9/30 - VALIDATION DATA - Loss: 0.547 - Accuracy 0.706\n",
            "Epoch: 10/30 - TRAINING DATA - Batches: 100/291 - Loss: 0.488 - Accuracy: 0.903\n",
            "Epoch: 10/30 - TRAINING DATA - Batches: 200/291 - Loss: 0.245 - Accuracy: 0.905\n",
            "Epoch: 10/30 - VALIDATION DATA - Loss: 0.452 - Accuracy 0.764\n",
            "Epoch: 11/30 - TRAINING DATA - Batches: 100/291 - Loss: 0.476 - Accuracy: 0.906\n",
            "Epoch: 11/30 - TRAINING DATA - Batches: 200/291 - Loss: 0.254 - Accuracy: 0.902\n",
            "Epoch: 11/30 - VALIDATION DATA - Loss: 0.528 - Accuracy 0.759\n",
            "Epoch: 12/30 - TRAINING DATA - Batches: 100/291 - Loss: 0.465 - Accuracy: 0.909\n",
            "Epoch: 12/30 - TRAINING DATA - Batches: 200/291 - Loss: 0.255 - Accuracy: 0.897\n",
            "Epoch: 12/30 - VALIDATION DATA - Loss: 0.472 - Accuracy 0.772\n",
            "Epoch: 13/30 - TRAINING DATA - Batches: 100/291 - Loss: 0.461 - Accuracy: 0.909\n",
            "Epoch: 13/30 - TRAINING DATA - Batches: 200/291 - Loss: 0.236 - Accuracy: 0.911\n",
            "Epoch: 13/30 - VALIDATION DATA - Loss: 0.477 - Accuracy 0.775\n",
            "Epoch: 14/30 - TRAINING DATA - Batches: 100/291 - Loss: 0.460 - Accuracy: 0.901\n",
            "Epoch: 14/30 - TRAINING DATA - Batches: 200/291 - Loss: 0.232 - Accuracy: 0.907\n",
            "Epoch: 14/30 - VALIDATION DATA - Loss: 0.466 - Accuracy 0.762\n",
            "Epoch: 15/30 - TRAINING DATA - Batches: 100/291 - Loss: 0.448 - Accuracy: 0.910\n",
            "Epoch: 15/30 - TRAINING DATA - Batches: 200/291 - Loss: 0.228 - Accuracy: 0.914\n",
            "Epoch: 15/30 - VALIDATION DATA - Loss: 0.498 - Accuracy 0.756\n",
            "Epoch: 16/30 - TRAINING DATA - Batches: 100/291 - Loss: 0.453 - Accuracy: 0.914\n",
            "Epoch: 16/30 - TRAINING DATA - Batches: 200/291 - Loss: 0.249 - Accuracy: 0.907\n",
            "Epoch: 16/30 - VALIDATION DATA - Loss: 0.453 - Accuracy 0.787\n",
            "Epoch: 17/30 - TRAINING DATA - Batches: 100/291 - Loss: 0.444 - Accuracy: 0.908\n",
            "Epoch: 17/30 - TRAINING DATA - Batches: 200/291 - Loss: 0.243 - Accuracy: 0.906\n",
            "Epoch: 17/30 - VALIDATION DATA - Loss: 0.507 - Accuracy 0.770\n",
            "Epoch: 18/30 - TRAINING DATA - Batches: 100/291 - Loss: 0.416 - Accuracy: 0.917\n",
            "Epoch: 18/30 - TRAINING DATA - Batches: 200/291 - Loss: 0.228 - Accuracy: 0.918\n",
            "Epoch: 18/30 - VALIDATION DATA - Loss: 0.417 - Accuracy 0.809\n",
            "Epoch: 19/30 - TRAINING DATA - Batches: 100/291 - Loss: 0.461 - Accuracy: 0.905\n",
            "Epoch: 19/30 - TRAINING DATA - Batches: 200/291 - Loss: 0.233 - Accuracy: 0.907\n",
            "Epoch: 19/30 - VALIDATION DATA - Loss: 0.478 - Accuracy 0.752\n",
            "Epoch: 20/30 - TRAINING DATA - Batches: 100/291 - Loss: 0.451 - Accuracy: 0.906\n",
            "Epoch: 20/30 - TRAINING DATA - Batches: 200/291 - Loss: 0.227 - Accuracy: 0.915\n",
            "Epoch: 20/30 - VALIDATION DATA - Loss: 0.523 - Accuracy 0.797\n",
            "Epoch: 21/30 - TRAINING DATA - Batches: 100/291 - Loss: 0.456 - Accuracy: 0.908\n",
            "Epoch: 21/30 - TRAINING DATA - Batches: 200/291 - Loss: 0.219 - Accuracy: 0.912\n",
            "Epoch: 21/30 - VALIDATION DATA - Loss: 0.470 - Accuracy 0.804\n",
            "Epoch: 22/30 - TRAINING DATA - Batches: 100/291 - Loss: 0.433 - Accuracy: 0.915\n",
            "Epoch: 22/30 - TRAINING DATA - Batches: 200/291 - Loss: 0.242 - Accuracy: 0.906\n",
            "Epoch: 22/30 - VALIDATION DATA - Loss: 0.470 - Accuracy 0.773\n",
            "Epoch: 23/30 - TRAINING DATA - Batches: 100/291 - Loss: 0.451 - Accuracy: 0.910\n",
            "Epoch: 23/30 - TRAINING DATA - Batches: 200/291 - Loss: 0.231 - Accuracy: 0.909\n",
            "Epoch: 23/30 - VALIDATION DATA - Loss: 0.481 - Accuracy 0.773\n",
            "Epoch: 24/30 - TRAINING DATA - Batches: 100/291 - Loss: 0.434 - Accuracy: 0.911\n",
            "Epoch: 24/30 - TRAINING DATA - Batches: 200/291 - Loss: 0.236 - Accuracy: 0.913\n",
            "Epoch: 24/30 - VALIDATION DATA - Loss: 0.509 - Accuracy 0.783\n",
            "Epoch: 25/30 - TRAINING DATA - Batches: 100/291 - Loss: 0.429 - Accuracy: 0.906\n",
            "Epoch: 25/30 - TRAINING DATA - Batches: 200/291 - Loss: 0.234 - Accuracy: 0.908\n",
            "Epoch: 25/30 - VALIDATION DATA - Loss: 0.469 - Accuracy 0.794\n",
            "Epoch: 26/30 - TRAINING DATA - Batches: 100/291 - Loss: 0.415 - Accuracy: 0.917\n",
            "Epoch: 26/30 - TRAINING DATA - Batches: 200/291 - Loss: 0.224 - Accuracy: 0.917\n",
            "Epoch: 26/30 - VALIDATION DATA - Loss: 0.507 - Accuracy 0.759\n",
            "Epoch: 27/30 - TRAINING DATA - Batches: 100/291 - Loss: 0.438 - Accuracy: 0.911\n",
            "Epoch: 27/30 - TRAINING DATA - Batches: 200/291 - Loss: 0.216 - Accuracy: 0.915\n",
            "Epoch: 27/30 - VALIDATION DATA - Loss: 0.460 - Accuracy 0.767\n",
            "Epoch: 28/30 - TRAINING DATA - Batches: 100/291 - Loss: 0.402 - Accuracy: 0.920\n",
            "Epoch: 28/30 - TRAINING DATA - Batches: 200/291 - Loss: 0.252 - Accuracy: 0.903\n",
            "Epoch: 28/30 - VALIDATION DATA - Loss: 0.439 - Accuracy 0.794\n",
            "Epoch: 29/30 - TRAINING DATA - Batches: 100/291 - Loss: 0.408 - Accuracy: 0.919\n",
            "Epoch: 29/30 - TRAINING DATA - Batches: 200/291 - Loss: 0.214 - Accuracy: 0.915\n",
            "Epoch: 29/30 - VALIDATION DATA - Loss: 0.461 - Accuracy 0.788\n",
            "Epoch: 30/30 - TRAINING DATA - Batches: 100/291 - Loss: 0.414 - Accuracy: 0.916\n",
            "Epoch: 30/30 - TRAINING DATA - Batches: 200/291 - Loss: 0.216 - Accuracy: 0.917\n",
            "Epoch: 30/30 - VALIDATION DATA - Loss: 0.467 - Accuracy 0.796\n",
            "Training complete - Total training time: 802.4 minutes\n"
          ],
          "name": "stdout"
        }
      ]
    },
    {
      "cell_type": "code",
      "metadata": {
        "id": "kPuj8WAOpw4x"
      },
      "source": [
        "# model = model.cpu()"
      ],
      "execution_count": null,
      "outputs": []
    },
    {
      "cell_type": "code",
      "metadata": {
        "id": "YB7sLxfepwap"
      },
      "source": [
        "# import torch\n",
        "# from torchvision.models import mobilenet_v2\n",
        "\n",
        "\n",
        "\n",
        "# model.eval()\n",
        "# input_tensor = torch.rand(1,3,224,224)#.to(device)\n",
        "\n",
        "# script_model = torch.jit.trace(model,input_tensor)\n",
        "# script_model.save(\"modelandroid.pt\")"
      ],
      "execution_count": 1,
      "outputs": []
    },
    {
      "cell_type": "code",
      "metadata": {
        "id": "19Xv1EuNpv84"
      },
      "source": [
        ""
      ],
      "execution_count": null,
      "outputs": []
    },
    {
      "cell_type": "code",
      "metadata": {
        "id": "ZObef_3WqzlN"
      },
      "source": [
        "# Evaluate model on validation set\n",
        "\n",
        "valid_running_loss = 0\n",
        "valid_running_total = 0\n",
        "valid_running_correct = 0\n",
        "\n",
        "pred_list = []\n",
        "label_list = []\n",
        "\n",
        "# Set model to evaluation mode\n",
        "model.eval()\n",
        "\n",
        "# Turn off gradients\n",
        "with torch.no_grad():\n",
        "    for i, (images, labels) in (enumerate(validloader)):\n",
        "        \n",
        "        # Send data to device\n",
        "        images, labels = images.to(device), labels.to(device)\n",
        "\n",
        "        # Forward pass\n",
        "        output = model(images)\n",
        "        #loss = criterion(output, labels)\n",
        "        \n",
        "        # Store running loss, total predictions, correct predictions\n",
        "        #valid_running_loss += loss.item()\n",
        "        _, predicted = torch.max(output.data, 1)\n",
        "        label_list.extend(labels.flatten().tolist())\n",
        "        pred_list.extend(predicted.flatten().tolist())\n",
        "        \n"
      ],
      "execution_count": 22,
      "outputs": []
    },
    {
      "cell_type": "code",
      "metadata": {
        "id": "thV1MTWDMc7N"
      },
      "source": [
        "#torch.save(model.state_dict(), '/content/drive/MyDrive/Projects/capstone/data/model_weights.pth')\n",
        "#torch.save(model, '/content/drive/MyDrive/Projects/capstone/data/model.pth')\n",
        "\n",
        "torch.save(model.state_dict(), 'model_weights.pth')\n",
        "#torch.save(model, '/content/drive/MyDrive/Projects/capstone/data/model.pth')"
      ],
      "execution_count": 35,
      "outputs": []
    },
    {
      "cell_type": "code",
      "metadata": {
        "id": "9tKzpKsqsAS3",
        "colab": {
          "base_uri": "https://localhost:8080/"
        },
        "outputId": "18c1ccf2-d255-4f5b-fbc3-e3eef43c6a3b"
      },
      "source": [
        "validloader.dataset.class_to_idx"
      ],
      "execution_count": 23,
      "outputs": [
        {
          "output_type": "execute_result",
          "data": {
            "text/plain": [
              "{'mel': 0, 'nevus': 1}"
            ]
          },
          "metadata": {
            "tags": []
          },
          "execution_count": 23
        }
      ]
    },
    {
      "cell_type": "code",
      "metadata": {
        "id": "5BQiswlYltbA",
        "colab": {
          "base_uri": "https://localhost:8080/"
        },
        "outputId": "777aef64-60b0-42bd-bb6c-cd03e29b5f91"
      },
      "source": [
        "cm1 = confusion_matrix(pred_list, label_list)\n",
        "cm1"
      ],
      "execution_count": 24,
      "outputs": [
        {
          "output_type": "execute_result",
          "data": {
            "text/plain": [
              "array([[ 652,  107],\n",
              "       [ 381, 1021]])"
            ]
          },
          "metadata": {
            "tags": []
          },
          "execution_count": 24
        }
      ]
    },
    {
      "cell_type": "code",
      "metadata": {
        "colab": {
          "base_uri": "https://localhost:8080/"
        },
        "id": "ArM0mRP5cJJj",
        "outputId": "2eab60cc-30c3-490c-e863-997849234525"
      },
      "source": [
        "print(classification_report(pred_list, label_list))"
      ],
      "execution_count": 25,
      "outputs": [
        {
          "output_type": "stream",
          "text": [
            "              precision    recall  f1-score   support\n",
            "\n",
            "           0       0.63      0.86      0.73       759\n",
            "           1       0.91      0.73      0.81      1402\n",
            "\n",
            "    accuracy                           0.77      2161\n",
            "   macro avg       0.77      0.79      0.77      2161\n",
            "weighted avg       0.81      0.77      0.78      2161\n",
            "\n"
          ],
          "name": "stdout"
        }
      ]
    },
    {
      "cell_type": "code",
      "metadata": {
        "id": "RgKkl0k4Hb-B"
      },
      "source": [
        "def plot_confusion_matrix(cm, classes, normalize=False, title='Confusion matrix', cmap=plt.cm.Blues):\n",
        "    if normalize:\n",
        "        cm = cm.astype('float') / cm.sum(axis=1)[:, np.newaxis]\n",
        "        print(\"Normalized confusion matrix\")\n",
        "    else:\n",
        "        print('Confusion matrix, without normalization')\n",
        "\n",
        "    print(cm)\n",
        "    plt.imshow(cm, interpolation='nearest', cmap=cmap)\n",
        "    plt.title(title)\n",
        "    plt.colorbar()\n",
        "    tick_marks = np.arange(len(classes))\n",
        "    plt.xticks(tick_marks, classes, rotation=45)\n",
        "    plt.yticks(tick_marks, classes)\n",
        "\n",
        "    fmt = '.2f' if normalize else 'd'\n",
        "    thresh = cm.max() / 2.\n",
        "    for i, j in product(range(cm.shape[0]), range(cm.shape[1])):\n",
        "        plt.text(j, i, format(cm[i, j], fmt), horizontalalignment=\"center\", color=\"white\" if cm[i, j] > thresh else \"black\")\n",
        "\n",
        "    plt.tight_layout()\n",
        "    plt.ylabel('True label')\n",
        "    plt.xlabel('Predicted label')"
      ],
      "execution_count": 26,
      "outputs": []
    },
    {
      "cell_type": "code",
      "metadata": {
        "colab": {
          "base_uri": "https://localhost:8080/",
          "height": 782
        },
        "id": "0uSmQfptHaHd",
        "outputId": "43760268-ef2a-4bc2-97f9-8842ff8c59f7"
      },
      "source": [
        "plt.figure(figsize=(10,10))\n",
        "plot_confusion_matrix(cm1, trainloader.dataset.classes, normalize=True, title=\"Confusion Matrix - Test Data\")"
      ],
      "execution_count": 28,
      "outputs": [
        {
          "output_type": "stream",
          "text": [
            "Normalized confusion matrix\n",
            "[[0.85902503 0.14097497]\n",
            " [0.27175464 0.72824536]]\n"
          ],
          "name": "stdout"
        },
        {
          "output_type": "display_data",
          "data": {
            "image/png": "[encoded data removed]",
            "text/plain": [
              "<Figure size 720x720 with 2 Axes>"
            ]
          },
          "metadata": {
            "tags": [],
            "needs_background": "light"
          }
        }
      ]
    },
    {
      "cell_type": "code",
      "metadata": {
        "id": "wtPriwidNNyB"
      },
      "source": [
        ""
      ],
      "execution_count": null,
      "outputs": []
    },
    {
      "cell_type": "code",
      "metadata": {
        "id": "tweJbvFJHXmo"
      },
      "source": [
        "\n",
        "# Calculate image-level ROC AUC score\n",
        "y_true, y_pred = label_list, pred_list\n",
        "fpr, tpr, _ = roc_curve(y_true, y_pred)\n",
        "roc_auc = roc_auc_score(y_true, y_pred)"
      ],
      "execution_count": 29,
      "outputs": []
    },
    {
      "cell_type": "code",
      "metadata": {
        "id": "YIsnjsSCHVG6",
        "colab": {
          "base_uri": "https://localhost:8080/",
          "height": 295
        },
        "outputId": "2c55067b-ca0c-40b5-a793-d4013e313173"
      },
      "source": [
        "plt.figure(1)\n",
        "lw = 2\n",
        "plt.plot(fpr, tpr, color=\"darkorange\", label=\"VGG16-Model (area = {:.3f})\".format(roc_auc))\n",
        "plt.plot([0, 1], [0, 1], color=\"navy\", lw=lw, linestyle=\"--\")\n",
        "plt.xlim([0.0, 1.0])\n",
        "plt.ylim([0.0, 1.05])\n",
        "plt.xlabel('False positive rate')\n",
        "plt.ylabel('True positive rate')\n",
        "plt.title('ROC curve')\n",
        "plt.legend(loc=\"lower right\")\n",
        "plt.show()"
      ],
      "execution_count": 30,
      "outputs": [
        {
          "output_type": "display_data",
          "data": {
            "image/png": "[encoded data removed]",
            "text/plain": [
              "<Figure size 432x288 with 1 Axes>"
            ]
          },
          "metadata": {
            "tags": [],
            "needs_background": "light"
          }
        }
      ]
    },
    {
      "cell_type": "code",
      "metadata": {
        "id": "N8eG8hnhRsBC"
      },
      "source": [
        ""
      ],
      "execution_count": 30,
      "outputs": []
    },
    {
      "cell_type": "code",
      "metadata": {
        "id": "GJunB8a_IhOY"
      },
      "source": [
        "#plot training accuracy\n",
        "\n",
        "x = list(range(1,len(acc_list[:50])+1))\n",
        "plt.figure(figsize=(12,8))\n",
        "plt.plot(x, acc_list[:50])\n",
        "plt.title('Training Accuracy')\n",
        "plt.xlabel('# of Epochs')\n",
        "plt.ylabel('Accuracy')\n",
        "plt.xticks(x, labels=np.arange(1, len(acc_list[:51]), step=1));\n"
      ],
      "execution_count": null,
      "outputs": []
    },
    {
      "cell_type": "code",
      "metadata": {
        "id": "lhMLdrptIctG"
      },
      "source": [
        "\n",
        "# Plot training loss\n",
        "\n",
        "x = list(range(1,len(loss_list[:50])+1))\n",
        "plt.figure(figsize=(12,8))\n",
        "plt.plot(x, loss_list[:50])\n",
        "plt.title('Training Loss')\n",
        "plt.xlabel('# of Epochs')\n",
        "plt.ylabel('Loss')\n",
        "plt.xticks(x, labels=np.arange(1, len(loss_list[:51]), step=1));\n"
      ],
      "execution_count": null,
      "outputs": []
    },
    {
      "cell_type": "code",
      "metadata": {
        "id": "kG5j4kaFIZgH"
      },
      "source": [
        ""
      ],
      "execution_count": null,
      "outputs": []
    },
    {
      "cell_type": "code",
      "metadata": {
        "id": "d4kXNzWAIWay"
      },
      "source": [
        ""
      ],
      "execution_count": null,
      "outputs": []
    },
    {
      "cell_type": "code",
      "metadata": {
        "id": "56wcxY1kITbF"
      },
      "source": [
        ""
      ],
      "execution_count": null,
      "outputs": []
    },
    {
      "cell_type": "code",
      "metadata": {
        "id": "Zh3_VijLIQ9r"
      },
      "source": [
        ""
      ],
      "execution_count": null,
      "outputs": []
    },
    {
      "cell_type": "code",
      "metadata": {
        "id": "kBhq2sb2IOo3"
      },
      "source": [
        ""
      ],
      "execution_count": null,
      "outputs": []
    },
    {
      "cell_type": "code",
      "metadata": {
        "id": "BWkoNcCSIL39"
      },
      "source": [
        ""
      ],
      "execution_count": null,
      "outputs": []
    },
    {
      "cell_type": "code",
      "metadata": {
        "id": "rD0Y75NlII24"
      },
      "source": [
        ""
      ],
      "execution_count": null,
      "outputs": []
    },
    {
      "cell_type": "code",
      "metadata": {
        "id": "8V9TgGBnIF0A"
      },
      "source": [
        ""
      ],
      "execution_count": null,
      "outputs": []
    },
    {
      "cell_type": "code",
      "metadata": {
        "id": "60NR4-bmIDLK"
      },
      "source": [
        ""
      ],
      "execution_count": null,
      "outputs": []
    },
    {
      "cell_type": "code",
      "metadata": {
        "id": "8eThIzM1IAjE"
      },
      "source": [
        ""
      ],
      "execution_count": null,
      "outputs": []
    }
  ]
}